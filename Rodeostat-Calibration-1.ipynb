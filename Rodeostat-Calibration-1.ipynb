{
 "cells": [
  {
   "cell_type": "code",
   "execution_count": 107,
   "id": "c9dfaa54",
   "metadata": {},
   "outputs": [],
   "source": [
    "# Importing \n",
    "#pip install iorodeo-potentiostat\n",
    "\n",
    "import math\n",
    "import csv\n",
    "import matplotlib.pyplot as plt\n",
    "import scipy\n",
    "import numpy as np\n",
    "import serial\n",
    "#|import pandas as pd\n",
    "import scipy.stats\n",
    "from scipy.signal import savgol_filter, lfilter, firwin\n",
    "#from sklearn.linear_model import LinearRegression\n",
    "from scipy.stats.stats import pearsonr \n",
    "\n",
    "from potentiostat import Potentiostat\n",
    "from time import sleep\n",
    "from serial.serialutil import EIGHTBITS, PARITY_NONE, STOPBITS_TWO\n",
    "from datetime import date\n",
    "from datetime import time\n",
    "from datetime import datetime\n",
    "from csv import writer"
   ]
  },
  {
   "cell_type": "code",
   "execution_count": 108,
   "id": "0bbb13b2",
   "metadata": {},
   "outputs": [],
   "source": [
    "# This function runs a chronoamperomic measurement\n",
    "\n",
    "#inputs to function: \n",
    "# time(ms)0V\n",
    "# voltage1 - usually 0V\n",
    "# time(ms) - negative voltage \n",
    "# voltage2 - negative voltage\n",
    "# time(ms) - positive voltage \n",
    "# voltage2 - positive voltage \n",
    "\n",
    "def run_chronoamperometry_measurement(time0,voltage0,timeN,voltageN,timeP,voltageP): \n",
    "\n",
    "    pstat = Potentiostat('/dev/ttyACM4') #create a device object to open serial communication\n",
    "    #device name may change depending on where the USB is plugged into\n",
    "    #check eaach time physical connections are changed\n",
    "\n",
    "    test_names = pstat.get_test_names() #get a list of all supported voltametric tests\n",
    "\n",
    "    param = pstat.get_param('chronoamp') #get test parameters for the chronoamperometry test\n",
    "\n",
    "    param = {'quietTime': time0, 'quietValue': voltage0, 'step': [[timeN, voltageN], [timeP, voltageP]]} #set new test parameters\n",
    "    #param = {'quietTime': 5000, 'quietValue': 0.0, 'step': [[5000, -2.0], [20000, 2.0]]} #set new test parameters\n",
    "    #times in [ms](int), values in [V](float)\n",
    "    #voltage waveform: 0V for 5sec, -2V for 5sec, 2V for 20sec\n",
    "    #test parameters are stored in RAM, they need to be set again if power to the Rodeostat is ever lost\n",
    "\n",
    "    pstat.set_param('chronoamp',param) #update the test params\n",
    "\n",
    "    newparam = pstat.get_param('chronoamp') #check if set correctly\n",
    "\n",
    "\n",
    "    #check available current measurement ranges\n",
    "    curr_range_list = pstat.get_all_curr_range()\n",
    "\n",
    "    #check current measurement range that is set right now\n",
    "    curr_range = pstat.get_curr_range()\n",
    "\n",
    "    #uncomment to set the current measurement range \n",
    "    # pstat.set_curr_range('1000uA') #set the bipolar current measeurement range\n",
    "    #if readings are unknown, start high and fine tune later\n",
    "    #don't want to clip the readings for the spikes (ideally)\n",
    "\n",
    "    sample_rate = pstat.get_sample_rate() #get the sample rate of the Rodeostat, return float\n",
    "\n",
    "    # newrate = float(10**-1) #sampling rate in [sec]\n",
    "    # pstat.set_sample_rate(newrate) #set the new sampling rate, expects a float in [samples/sec]\n",
    "\n",
    "    #alternativly, we can check the sample period\n",
    "    sample_period = pstat.get_sample_period() #return the time between samples [ms], unit discrepency\n",
    "    #doc says [sec] but then period != 1/rate\n",
    "\n",
    "\n",
    "\n",
    "    device_id = pstat.get_device_id() #get the Rodeostat ID\n",
    "\n",
    "    pstat.set_device_id(0) #assign new device ID, it is stored in nonvolatile mem, so we only need to assign it once\n",
    "\n",
    "    new_device_id = pstat.get_device_id() #check the new Rodeostat ID\n",
    "\n",
    "\n",
    "    #run chron test using the params set\n",
    "    outputfile = \"chrono.txt\"\n",
    "    t, volt, curr = pstat.run_test('chronoamp', filename=outputfile)\n",
    "    #this returns a list which contains measurement times [s], voltages [V], and currents [uA] respectivly\n",
    "    #output voltage range is automatically set in firmware when function is called, no need to manually change it\n",
    "    #a progress bar appears across the sceen while the test is running \n",
    "\n",
    "    #print to screen when operation is done\n",
    "    print(\"Chrono measurement complete\\n\")\n",
    "    return t, volt, curr\n"
   ]
  },
  {
   "cell_type": "code",
   "execution_count": 109,
   "id": "1059cad5",
   "metadata": {},
   "outputs": [],
   "source": [
    "# This function runs 'numberOfRuns' iterations of chronomaperometry reading and outputs the current being approached\n",
    "\n",
    "def run_chronoamperometry_and_retrieve_current_approached(numberOfRuns):\n",
    "\n",
    "    iterations = numberOfRuns\n",
    "    time = np.zeros((numberOfRuns,3000))    # IMPORTANT: Set these values according to the data being outputted by your chonomaperometry measurements\n",
    "    voltage = np.zeros((numberOfRuns,3000))\n",
    "    current = np.zeros((numberOfRuns,3000))\n",
    "\n",
    "    for i in range(iterations):\n",
    "        values = np.zeros((3,3000))\n",
    "        values = run_chronoamperometry_measurement(5000,0.0,5000,-2.0,20000,2.0) \n",
    "        time[i-1,:] = values[0]\n",
    "        voltage[i-1,:] = values[1]\n",
    "        current[i-1,:] = values[2]\n",
    "        plt.plot(time[0],current[i-1])\n",
    "        \n",
    "    ##plot chronoamperometry measurements\n",
    "    plt.xlabel('time(s)')\n",
    "    plt.ylabel('current(A)')\n",
    "    plt.title('Average Chronomperomtry of 5 Runs')\n",
    "    plt.show()\n",
    "\n",
    "    time_approaching = np.array(time[0][len(time[0])-100 : len(time[0])])\n",
    "    current_approaching_0 = np.array(current[0][len(current[0])-100 : len(current[0])])\n",
    "    current_approaching_1 = np.array(current[1][len(current[1])-100 : len(current[1])])\n",
    "    current_approaching_2 = np.array(current[2][len(current[2])-100 : len(current[2])])\n",
    "    current_approaching_3 = np.array(current[3][len(current[3])-100 : len(current[3])])\n",
    "    current_approaching_4 = np.array(current[4][len(current[4])-100 : len(current[4])])\n",
    "\n",
    "    #eliminate noise\n",
    "    current_approaching_0_filtered = savgol_filter(current_approaching_0, 31,1)\n",
    "    current_approaching_1_filtered = savgol_filter(current_approaching_1, 31,1)\n",
    "    current_approaching_2_filtered = savgol_filter(current_approaching_2, 31,1)\n",
    "    current_approaching_3_filtered = savgol_filter(current_approaching_3, 31,1)\n",
    "    current_approaching_4_filtered = savgol_filter(current_approaching_4, 31,1)\n",
    "\n",
    "    ## removing outliers - get 3 most correlated curves\n",
    "    correlation_matrix = np.empty(shape=(10,4))\n",
    "    #comparing 0,1,2\n",
    "    correlation_matrix[0][0] = 0 ; correlation_matrix[0][1] = 1 ; correlation_matrix[0][2] = 2 ; correlation_matrix[0][3] = np.linalg.norm(current_approaching_0-current_approaching_1-current_approaching_2) \n",
    "    #comparing 0,1,3\n",
    "    correlation_matrix[1][0] = 0 ; correlation_matrix[1][1] = 1 ; correlation_matrix[1][2] = 3 ; correlation_matrix[1][3] = np.linalg.norm(current_approaching_0-current_approaching_1-current_approaching_3) \n",
    "    #comparing 0,1,4\n",
    "    correlation_matrix[2][0] = 0 ; correlation_matrix[2][1] = 1 ; correlation_matrix[2][2] = 4 ; correlation_matrix[2][3] = np.linalg.norm(current_approaching_0-current_approaching_1-current_approaching_4)             \n",
    "    #comparing 0,2,3\n",
    "    correlation_matrix[3][0] = 0 ; correlation_matrix[3][1] = 2 ; correlation_matrix[3][2] = 3 ; correlation_matrix[3][3] = np.linalg.norm(current_approaching_0-current_approaching_2-current_approaching_3)  \n",
    "    #comparing 0,2,4\n",
    "    correlation_matrix[4][0] = 0 ; correlation_matrix[4][1] = 2 ; correlation_matrix[4][2] = 4 ; correlation_matrix[4][3] = np.linalg.norm(current_approaching_0-current_approaching_2-current_approaching_4)             \n",
    "    #comparing 0,3,4\n",
    "    correlation_matrix[5][0] = 0 ; correlation_matrix[5][1] = 3 ; correlation_matrix[5][2] = 4 ; correlation_matrix[5][3] = np.linalg.norm(current_approaching_0-current_approaching_3-current_approaching_4)             \n",
    "    #comparing 1,2,3\n",
    "    correlation_matrix[6][0] = 1 ; correlation_matrix[6][1] = 2 ; correlation_matrix[6][2] = 3 ; correlation_matrix[6][3] = np.linalg.norm(current_approaching_1-current_approaching_2-current_approaching_3)\n",
    "    #comparing 1,2,4\n",
    "    correlation_matrix[7][0] = 1 ; correlation_matrix[7][1] = 2 ; correlation_matrix[7][2] = 4 ; correlation_matrix[7][3] = np.linalg.norm(current_approaching_1-current_approaching_2-current_approaching_4)             \n",
    "    #comparing 1,3,4\n",
    "    correlation_matrix[8][0] = 1 ; correlation_matrix[8][1] = 3 ; correlation_matrix[8][2] = 4 ; correlation_matrix[8][3] = np.linalg.norm(current_approaching_1-current_approaching_3-current_approaching_4)  \n",
    "    #comparing 2,3,4\n",
    "    correlation_matrix[9][0] = 2 ; correlation_matrix[9][1] = 3 ; correlation_matrix[9][2] = 4 ; correlation_matrix[9][3] = np.linalg.norm(current_approaching_2-current_approaching_3-current_approaching_4)                \n",
    "    # putting filtered measurements in array\n",
    "    filtered_measurements_array = np.empty(shape=(5,len(current_approaching_0_filtered)))\n",
    "    filtered_measurements_array[0] = current_approaching_0_filtered\n",
    "    filtered_measurements_array[1] = current_approaching_1_filtered  \n",
    "    filtered_measurements_array[2] = current_approaching_2_filtered\n",
    "    filtered_measurements_array[3] = current_approaching_3_filtered \n",
    "    filtered_measurements_array[4] = current_approaching_4_filtered\n",
    "    ## getting index of mesurements that are most correlated\n",
    "    bound = 1000\n",
    "    measurement_indexes = np.empty(shape=(3))\n",
    "    for i in range(10):\n",
    "        if correlation_matrix[i-1][3] < bound :\n",
    "            bound = correlation_matrix[i-1][3] ;\n",
    "            measurement_indexes[0] = correlation_matrix[i-1][0]\n",
    "            measurement_indexes[1] = correlation_matrix[i-1][1]\n",
    "            measurement_indexes[2] = correlation_matrix[i-1][2]  \n",
    "    #Plotting the 3 most CORRELATED measurements\n",
    "    index_0 = int(measurement_indexes[0])\n",
    "    index_1 = int(measurement_indexes[1])\n",
    "    index_2 = int(measurement_indexes[2])\n",
    "\n",
    "    # we conclude that the current being approached is the average value of average_current_approaching_filtered\n",
    "    average_current_approaching_filtered = (filtered_measurements_array[index_0]+filtered_measurements_array[index_1]+filtered_measurements_array[index_2])/3\n",
    "    current_being_approached = np.sum(average_current_approaching_filtered)/len(average_current_approaching_filtered)\n",
    "\n",
    "    #plot chronoamperometry measuerements approached\n",
    "    plt.plot(time_approaching,average_current_approaching_filtered)\n",
    "    plt.xlabel('time(s)')\n",
    "    plt.ylabel('current(uA)')\n",
    "    plt.title('Current being approached after 5 Runs')\n",
    "    plt.show()\n",
    "    \n",
    "    \n",
    "    print('current being approached:', current_being_approached)\n",
    "    return current_being_approached"
   ]
  },
  {
   "cell_type": "code",
   "execution_count": 110,
   "id": "533a2a10",
   "metadata": {},
   "outputs": [
    {
     "name": "stdout",
     "output_type": "stream",
     "text": [
      "--Start of Python Script--\n"
     ]
    }
   ],
   "source": [
    "\n",
    "#function definition(s) for Syringe Pump\n",
    "def sendserial(sendstring):\n",
    "    ser = serial.Serial(port='/dev/ttyUSB0', baudrate=19200, bytesize=EIGHTBITS, parity=PARITY_NONE, stopbits=STOPBITS_TWO)\n",
    "    ser.close()\n",
    "    try:\n",
    "        ser.open()\n",
    "    except Exception as e:\n",
    "        print(\"Failed to open serial port for RS232 cable.\")\n",
    "        #flag=1\n",
    "\n",
    "    if ser.isOpen():\n",
    "      try:\n",
    "        print(\"Sending:\" + sendstring)\n",
    "        ser.flushInput()\n",
    "        ser.flushOutput()\n",
    "        #ser.write(sendstring) #gives comm error\n",
    "        ser.write(bytes(sendstring,'utf-8'))\n",
    "        sleep(0.1) #give pump some time to process command\n",
    "        out = ''\n",
    "        while ser.inWaiting():\n",
    "          while True:\n",
    "            # Check if garbage was received from the RS-232\n",
    "            try:\n",
    "              # Append all of the received bytes into a single string with proper decoding\n",
    "              out += ser.read().decode('utf-8') #python > 2.7\n",
    "              #out += ser.read()                #python <= 2.7\n",
    "              break\n",
    "            except ValueError as e0:\n",
    "              out = ''\n",
    "              print(\"Recieved erroneous data:\" + str(e0))\n",
    "  \n",
    "        if out != '':\n",
    "          print(\"Recieved:\"  + out)\n",
    "        else:\n",
    "          print(\"...Nothing received\")\n",
    "\n",
    "      except Exception as e1:\n",
    "        print(\"Python serial communication error...:\" + str(e1))\n",
    "    else:\n",
    "      pass\n",
    "\n",
    "def reconnect():\n",
    "    sendserial(\"\\r\") #re-establish serial communication in case touchscreen was touched\n",
    "    \n",
    "def updatetime():\n",
    "    #Formatting date into [mm/dd/yy], ordering of units is set though the touchscreen, order must match what pump expects\n",
    "    now = datetime.now()\n",
    "    date = now.strftime(\"%x\")\n",
    "    print(\"Date: \" + date)\n",
    "\n",
    "    #Formatting time into [hh:mm:ss], 24hr time\n",
    "    time12 = now.strftime(\"%I:%M:%S %p\")\n",
    "    print(\"Time 12hr: \" + time12)\n",
    "    time24 = now.strftime(\"%H:%M:%S\")\n",
    "    print(\"Time 24hr: \" + time24 + \"\\n\")\n",
    "\n",
    "    cmd = \"time\" + \" \" + date + \" \" + time24 #updates time and date on pump to sync with comp's system time\n",
    "    #cmd = \"time\" #returns the current date and time according to the pump\n",
    "    finish = \"\\r\\n\" #<CR><LF> is equivalent to pressing enter in a serial terminal\n",
    "    complete = cmd + finish #append the terminating characters so pump knows transmission is done\n",
    "    sendserial(complete) #send command to pump to update the locally stored date and time\n",
    "    \n",
    "def sendarb(cmd):\n",
    "    #used to send an arbitrary command to the pump, not a predefined function\n",
    "    finish = \"\\r\\n\" #<CR><LF> is equivalent to pressing enter in a serial terminal\n",
    "    complete = cmd + finish #append the terminating characters so pump knows transmission is done\n",
    "    sendserial(complete) #send command to pump\n",
    "    \n",
    "#main script\n",
    "print(\"--Start of Python Script--\")\n",
    "\n",
    "\n",
    "\n",
    "def send_400mL_1M_H2O2():\n",
    "    reconnect()\n",
    "    print(\"--Beginning to send 0.4mL 1M H2O2--\")\n",
    "    command = \"civolume\" #clears the infused volume\n",
    "    sendarb(command)\n",
    "    command = \"ctvolume\" #clears the target volume\n",
    "    sendarb(command)\n",
    "    command = \"tvolume 400 u\" #sets or displays the target volume, usage: tvolume [{target volume} {volume units}]\n",
    "    sendarb(command)\n",
    "    command = \"tvolume\" #displays the target volume\n",
    "    sendarb(command)\n",
    "    command = \"irate 20 u/s\" #sets or displays the infusion rate, usage: irate [max|min|lim|{rate} {rate units}]\n",
    "    #for commands requiring rate units, use the following format: m, u, n, p/h, m, s. Ex: m/m = milliliter/minute, n/s = nanoliter/second\n",
    "    sendarb(command)\n",
    "    command = \"irate\" #displays the infusion rate\n",
    "    sendarb(command)\n",
    "    command = \"crate\" #displays the current rate the motor is running at. Returns 0 fl/sec when idle. \n",
    "    sendarb(command)\n",
    "\n",
    "    command = \"irun\" #runs the pump in the infuse direction \n",
    "    sendarb(command)\n",
    "    command = \"crate\" #displays the current rate the motor is running at. Returns 0 fl/sec when idle. \n",
    "    sendarb(command)\n",
    "    sleep(20)\n",
    "\n",
    "    print(\"--SENT 0.4mL 1M H2O2--\")"
   ]
  },
  {
   "cell_type": "code",
   "execution_count": 111,
   "id": "017f7612",
   "metadata": {},
   "outputs": [],
   "source": [
    "#function definition(s) for PID Temp Controller\n",
    "def serialsend(sendstring):\n",
    "    ser = serial.Serial(port='/dev/ttyACM0', baudrate=9600, timeout=0)\n",
    "    ser.close()\n",
    "    try:\n",
    "        ser.open()\n",
    "    except Exception as e:\n",
    "        print(\"Failed to open serial port for PID Controller.\")\n",
    "        #flag=1\n",
    "\n",
    "    if ser.isOpen():\n",
    "      try:\n",
    "        #print(\"Sending:\" + sendstring)\n",
    "        ser.flushInput()\n",
    "        ser.flushOutput()\n",
    "        #ser.write(sendstring) #gives comm error\n",
    "        ser.write(bytes(sendstring,'utf-8'))\n",
    "        sleep(0.1) #give pump some time to process command\n",
    "        out = ''\n",
    "        while ser.inWaiting():\n",
    "          while True:\n",
    "            # Check if garbage was received from the RS-232\n",
    "            try:\n",
    "              # Append all of the received bytes into a single string with proper decoding\n",
    "              out += ser.read().decode('utf-8') #python > 2.7\n",
    "              #out += ser.read()                #python <= 2.7\n",
    "              break\n",
    "            except ValueError as e0:\n",
    "              out = ''\n",
    "              print(\"Recieved erroneous data:\" + str(e0))\n",
    "  \n",
    "        if out != '':\n",
    "          #print(\"Recieved:\"  + out)\n",
    "        else:\n",
    "          #print(\"...Nothing received\")\n",
    "\n",
    "      except Exception as e1:\n",
    "        print(\"Python serial communication error...:\" + str(e1))\n",
    "    else:\n",
    "      pass\n",
    "    \n",
    "    return out\n",
    "\n",
    "    "
   ]
  },
  {
   "cell_type": "code",
   "execution_count": 112,
   "id": "80d6ad03",
   "metadata": {},
   "outputs": [],
   "source": [
    "get_temp = \"*G110 \\r\" #gets current temperature\n",
    "command1 = \"*R600 1 \\r\" #reads output mode on output 1\n",
    "command2 = \"*R600 2 \\r\" #reads output mode on output 2\n",
    "\n",
    "command1w0 = \"*W600 10 \\r\" #writes output mode on output 1 to output maintainted in OFF state\n",
    "command1w1 = \"*W600 11 \\r\" #writes output mode on output 1 to output control by PID function\n",
    "command1w2 = \"*W600 12 \\r\" #writes output mode on output 1 to output control by   function\n",
    "outtype1 = \"*G601 1 \\r\" #gets what output type is available for otput 1, get SSR\n",
    "outtype2 = \"*G601 2 \\r\" #gets what output type is available for otput 2, get SSR\n",
    "\n",
    "outrange1 = \"*R660 1 \\r\" #reads output 1 voltage output range, reads 1-10V\n",
    "outrange2 = \"*R660 2 \\r\" #reads output 2 voltage output range, reads 1-10V\n",
    "\n",
    "runmode = \"*RF23\\r\" #reads current system state\n",
    "setmode_pause = \"*WF23 9\\r\" #sets the system state to PAUSE\n",
    "setmode_run = \"*WF23 6\\r\" #sets the system state to RUN\n",
    "\n",
    "def get_temp_from_PID():\n",
    "    temperature = serialsend(get_temp)\n",
    "    if (temperature == ''):\n",
    "        print('CAUTION: Cannot connect to temperature controller')\n",
    "        return -1\n",
    "    else: \n",
    "        return temperature\n",
    "    \n",
    "def pause_PID():\n",
    "    serialsend(outtype1)\n",
    "    serialsend(outtype2)\n",
    "    serialsend(outrange1)\n",
    "    serialsend(outrange2)\n",
    "    serialsend(runmode)\n",
    "    serialsend(setmode_pause)\n",
    "    if (serialsend(runmode) == 9): #check if controller is actually paused\n",
    "        print ('Temperature controller is paused')\n",
    "        return 1\n",
    "    else:\n",
    "        print ('CAUTION: Temperature controller is not paused. Noise may be introduced in measurement')\n",
    "        return -1\n",
    "     \n",
    "    \n",
    "def resume_PID():\n",
    "    #command = \"*W145 33 \\r\"#enable annunucator 3 on SPDT 1 Mode activated by output 1\n",
    "    #serialsend(command)\n",
    "    ##enable output 1  \n",
    "    serialsend(command1w2)\n",
    "    serialsend(runmode)\n",
    "    sleep(1) #wait for some time [sec]\n",
    "    serialsend(setmode_run)\n",
    "    serialsend(runmode)\n",
    "    if (serialsend(runmode) == 6): #check if controller is actually paused\n",
    "        print ('Temperature controller is running')\n",
    "        return 1\n",
    "    else:\n",
    "        print ('CAUTION: Temperature controller is not running. Heating functionalities may be disabled')\n",
    "        return -1"
   ]
  },
  {
   "cell_type": "code",
   "execution_count": 113,
   "id": "3162b81f",
   "metadata": {},
   "outputs": [],
   "source": [
    "def get_time():\n",
    "    now = datetime.now()\n",
    "    current_time = now.strftime(\"%H:%M:%S\")\n",
    "    return current_time"
   ]
  },
  {
   "cell_type": "code",
   "execution_count": 114,
   "id": "5a40ca1f",
   "metadata": {},
   "outputs": [
    {
     "name": "stdout",
     "output_type": "stream",
     "text": [
      "17:00:46\n"
     ]
    }
   ],
   "source": [
    "print(get_time())\n"
   ]
  },
  {
   "cell_type": "code",
   "execution_count": 115,
   "id": "ed005336",
   "metadata": {},
   "outputs": [
    {
     "name": "stdout",
     "output_type": "stream",
     "text": [
      "Sending:*G110 \r\n",
      "Recieved:+25.4\r\n",
      "+25.4\r\n"
     ]
    }
   ],
   "source": [
    "temperature = get_temp_from_PID() "
   ]
  },
  {
   "cell_type": "code",
   "execution_count": 116,
   "id": "8fc18034",
   "metadata": {},
   "outputs": [
    {
     "name": "stdout",
     "output_type": "stream",
     "text": [
      "Sending:*G601 1 \n",
      "Recieved:004\n",
      "Sending:*G601 2 \n",
      "Recieved:004\n",
      "Sending:*R660 1 \n",
      "Recieved:0\n",
      "Sending:*R660 2 \n",
      "Recieved:0\n",
      "Sending:*RF23\n",
      "Recieved:6\n",
      "Sending:*WF23 9\n",
      "...Nothing received\n"
     ]
    }
   ],
   "source": [
    "status = pause_PID()"
   ]
  },
  {
   "cell_type": "code",
   "execution_count": 117,
   "id": "099dad2e",
   "metadata": {},
   "outputs": [
    {
     "name": "stdout",
     "output_type": "stream",
     "text": [
      "Sending:*W600 12 \n",
      "...Nothing received\n",
      "Sending:*RF23\n",
      "Recieved:9\n",
      "Sending:*WF23 6\n",
      "...Nothing received\n",
      "Sending:*RF23\n",
      "Recieved:6\n"
     ]
    }
   ],
   "source": [
    "resume_PID()"
   ]
  },
  {
   "cell_type": "code",
   "execution_count": null,
   "id": "f5d3cfcf",
   "metadata": {},
   "outputs": [],
   "source": []
  },
  {
   "cell_type": "markdown",
   "id": "fed66f46",
   "metadata": {},
   "source": [
    "# Main function to automate the calibration process"
   ]
  },
  {
   "cell_type": "code",
   "execution_count": 120,
   "id": "ea525354",
   "metadata": {
    "scrolled": false
   },
   "outputs": [
    {
     "name": "stdout",
     "output_type": "stream",
     "text": [
      "\u001b[1m0mM measurement has begun\u001b[0m\n",
      "0 mM measurement has begun\n",
      "\n",
      "\n",
      "Sending:*G601 1 \n",
      "Recieved:004\n",
      "Sending:*G601 2 \n",
      "Recieved:004\n",
      "Sending:*R660 1 \n",
      "Recieved:0\n",
      "Sending:*R660 2 \n",
      "Recieved:0\n",
      "Sending:*RF23\n",
      "Recieved:6\n",
      "Sending:*WF23 9\n",
      "...Nothing received\n",
      "\n",
      "test: chronoamp\n",
      "\n"
     ]
    },
    {
     "name": "stderr",
     "output_type": "stream",
     "text": [
      " 34%|########################                                                 |\r"
     ]
    },
    {
     "ename": "KeyboardInterrupt",
     "evalue": "",
     "output_type": "error",
     "traceback": [
      "\u001b[0;31m---------------------------------------------------------------------------\u001b[0m",
      "\u001b[0;31mKeyboardInterrupt\u001b[0m                         Traceback (most recent call last)",
      "\u001b[0;32m<ipython-input-120-363fde97216f>\u001b[0m in \u001b[0;36m<module>\u001b[0;34m\u001b[0m\n\u001b[1;32m     20\u001b[0m     \u001b[0;31m#Run chronoamperometry\u001b[0m\u001b[0;34m\u001b[0m\u001b[0;34m\u001b[0m\u001b[0m\n\u001b[1;32m     21\u001b[0m     \u001b[0msleep\u001b[0m\u001b[0;34m(\u001b[0m\u001b[0;36m10\u001b[0m\u001b[0;34m)\u001b[0m \u001b[0;31m#wait 10 s\u001b[0m\u001b[0;34m\u001b[0m\u001b[0m\n\u001b[0;32m---> 22\u001b[0;31m     \u001b[0mcurrent_approached\u001b[0m \u001b[0;34m=\u001b[0m \u001b[0mrun_chronoamperometry_and_retrieve_current_approached\u001b[0m\u001b[0;34m(\u001b[0m\u001b[0;36m5\u001b[0m\u001b[0;34m)\u001b[0m \u001b[0;31m# this will return the current being approached on the chronoamperometric measurement\u001b[0m\u001b[0;34m\u001b[0m\u001b[0m\n\u001b[0m\u001b[1;32m     23\u001b[0m     \u001b[0msleep\u001b[0m\u001b[0;34m(\u001b[0m\u001b[0;36m10\u001b[0m\u001b[0;34m)\u001b[0m \u001b[0;31m#wait 10 s\u001b[0m\u001b[0;34m\u001b[0m\u001b[0m\n\u001b[1;32m     24\u001b[0m     \u001b[0mresume_PID\u001b[0m\u001b[0;34m(\u001b[0m\u001b[0;34m)\u001b[0m\u001b[0;34m\u001b[0m\u001b[0m\n",
      "\u001b[0;32m<ipython-input-109-021d2becd061>\u001b[0m in \u001b[0;36mrun_chronoamperometry_and_retrieve_current_approached\u001b[0;34m(numberOfRuns)\u001b[0m\n\u001b[1;32m     10\u001b[0m     \u001b[0;32mfor\u001b[0m \u001b[0mi\u001b[0m \u001b[0;32min\u001b[0m \u001b[0mrange\u001b[0m\u001b[0;34m(\u001b[0m\u001b[0miterations\u001b[0m\u001b[0;34m)\u001b[0m\u001b[0;34m:\u001b[0m\u001b[0;34m\u001b[0m\u001b[0m\n\u001b[1;32m     11\u001b[0m         \u001b[0mvalues\u001b[0m \u001b[0;34m=\u001b[0m \u001b[0mnp\u001b[0m\u001b[0;34m.\u001b[0m\u001b[0mzeros\u001b[0m\u001b[0;34m(\u001b[0m\u001b[0;34m(\u001b[0m\u001b[0;36m3\u001b[0m\u001b[0;34m,\u001b[0m\u001b[0;36m3000\u001b[0m\u001b[0;34m)\u001b[0m\u001b[0;34m)\u001b[0m\u001b[0;34m\u001b[0m\u001b[0m\n\u001b[0;32m---> 12\u001b[0;31m         \u001b[0mvalues\u001b[0m \u001b[0;34m=\u001b[0m \u001b[0mrun_chronoamperometry_measurement\u001b[0m\u001b[0;34m(\u001b[0m\u001b[0;36m5000\u001b[0m\u001b[0;34m,\u001b[0m\u001b[0;36m0.0\u001b[0m\u001b[0;34m,\u001b[0m\u001b[0;36m5000\u001b[0m\u001b[0;34m,\u001b[0m\u001b[0;34m-\u001b[0m\u001b[0;36m2.0\u001b[0m\u001b[0;34m,\u001b[0m\u001b[0;36m20000\u001b[0m\u001b[0;34m,\u001b[0m\u001b[0;36m2.0\u001b[0m\u001b[0;34m)\u001b[0m\u001b[0;34m\u001b[0m\u001b[0m\n\u001b[0m\u001b[1;32m     13\u001b[0m         \u001b[0mtime\u001b[0m\u001b[0;34m[\u001b[0m\u001b[0mi\u001b[0m\u001b[0;34m-\u001b[0m\u001b[0;36m1\u001b[0m\u001b[0;34m,\u001b[0m\u001b[0;34m:\u001b[0m\u001b[0;34m]\u001b[0m \u001b[0;34m=\u001b[0m \u001b[0mvalues\u001b[0m\u001b[0;34m[\u001b[0m\u001b[0;36m0\u001b[0m\u001b[0;34m]\u001b[0m\u001b[0;34m\u001b[0m\u001b[0m\n\u001b[1;32m     14\u001b[0m         \u001b[0mvoltage\u001b[0m\u001b[0;34m[\u001b[0m\u001b[0mi\u001b[0m\u001b[0;34m-\u001b[0m\u001b[0;36m1\u001b[0m\u001b[0;34m,\u001b[0m\u001b[0;34m:\u001b[0m\u001b[0;34m]\u001b[0m \u001b[0;34m=\u001b[0m \u001b[0mvalues\u001b[0m\u001b[0;34m[\u001b[0m\u001b[0;36m1\u001b[0m\u001b[0;34m]\u001b[0m\u001b[0;34m\u001b[0m\u001b[0m\n",
      "\u001b[0;32m<ipython-input-108-8944fd1e9239>\u001b[0m in \u001b[0;36mrun_chronoamperometry_measurement\u001b[0;34m(time0, voltage0, timeN, voltageN, timeP, voltageP)\u001b[0m\n\u001b[1;32m     61\u001b[0m     \u001b[0;31m#run chron test using the params set\u001b[0m\u001b[0;34m\u001b[0m\u001b[0;34m\u001b[0m\u001b[0m\n\u001b[1;32m     62\u001b[0m     \u001b[0moutputfile\u001b[0m \u001b[0;34m=\u001b[0m \u001b[0;34m\"chrono.txt\"\u001b[0m\u001b[0;34m\u001b[0m\u001b[0m\n\u001b[0;32m---> 63\u001b[0;31m     \u001b[0mt\u001b[0m\u001b[0;34m,\u001b[0m \u001b[0mvolt\u001b[0m\u001b[0;34m,\u001b[0m \u001b[0mcurr\u001b[0m \u001b[0;34m=\u001b[0m \u001b[0mpstat\u001b[0m\u001b[0;34m.\u001b[0m\u001b[0mrun_test\u001b[0m\u001b[0;34m(\u001b[0m\u001b[0;34m'chronoamp'\u001b[0m\u001b[0;34m,\u001b[0m \u001b[0mfilename\u001b[0m\u001b[0;34m=\u001b[0m\u001b[0moutputfile\u001b[0m\u001b[0;34m)\u001b[0m\u001b[0;34m\u001b[0m\u001b[0m\n\u001b[0m\u001b[1;32m     64\u001b[0m     \u001b[0;31m#this returns a list which contains measurement times [s], voltages [V], and currents [uA] respectivly\u001b[0m\u001b[0;34m\u001b[0m\u001b[0;34m\u001b[0m\u001b[0m\n\u001b[1;32m     65\u001b[0m     \u001b[0;31m#output voltage range is automatically set in firmware when function is called, no need to manually change it\u001b[0m\u001b[0;34m\u001b[0m\u001b[0;34m\u001b[0m\u001b[0m\n",
      "\u001b[0;32m~/.local/lib/python3.5/site-packages/potentiostat/potentiostat.py\u001b[0m in \u001b[0;36mrun_test\u001b[0;34m(self, testname, param, filename, display, timeunit)\u001b[0m\n\u001b[1;32m    362\u001b[0m \u001b[0;34m\u001b[0m\u001b[0m\n\u001b[1;32m    363\u001b[0m             \u001b[0;31m# Get dat from device\u001b[0m\u001b[0;34m\u001b[0m\u001b[0;34m\u001b[0m\u001b[0m\n\u001b[0;32m--> 364\u001b[0;31m             \u001b[0msample_json\u001b[0m \u001b[0;34m=\u001b[0m \u001b[0mself\u001b[0m\u001b[0;34m.\u001b[0m\u001b[0mreadline\u001b[0m\u001b[0;34m(\u001b[0m\u001b[0;34m)\u001b[0m\u001b[0;34m\u001b[0m\u001b[0m\n\u001b[0m\u001b[1;32m    365\u001b[0m             \u001b[0msample_json\u001b[0m \u001b[0;34m=\u001b[0m \u001b[0msample_json\u001b[0m\u001b[0;34m.\u001b[0m\u001b[0mstrip\u001b[0m\u001b[0;34m(\u001b[0m\u001b[0;34m)\u001b[0m\u001b[0;34m\u001b[0m\u001b[0m\n\u001b[1;32m    366\u001b[0m             \u001b[0msample_dict\u001b[0m \u001b[0;34m=\u001b[0m \u001b[0mjson\u001b[0m\u001b[0;34m.\u001b[0m\u001b[0mloads\u001b[0m\u001b[0;34m(\u001b[0m\u001b[0msample_json\u001b[0m\u001b[0;34m.\u001b[0m\u001b[0mdecode\u001b[0m\u001b[0;34m(\u001b[0m\u001b[0;34m)\u001b[0m\u001b[0;34m)\u001b[0m\u001b[0;34m\u001b[0m\u001b[0m\n",
      "\u001b[0;32m/usr/lib/python3/dist-packages/serial/serialposix.py\u001b[0m in \u001b[0;36mread\u001b[0;34m(self, size)\u001b[0m\n\u001b[1;32m    470\u001b[0m         \u001b[0;32mwhile\u001b[0m \u001b[0mlen\u001b[0m\u001b[0;34m(\u001b[0m\u001b[0mread\u001b[0m\u001b[0;34m)\u001b[0m \u001b[0;34m<\u001b[0m \u001b[0msize\u001b[0m\u001b[0;34m:\u001b[0m\u001b[0;34m\u001b[0m\u001b[0m\n\u001b[1;32m    471\u001b[0m             \u001b[0;32mtry\u001b[0m\u001b[0;34m:\u001b[0m\u001b[0;34m\u001b[0m\u001b[0m\n\u001b[0;32m--> 472\u001b[0;31m                 \u001b[0mready\u001b[0m\u001b[0;34m,\u001b[0m \u001b[0m_\u001b[0m\u001b[0;34m,\u001b[0m \u001b[0m_\u001b[0m \u001b[0;34m=\u001b[0m \u001b[0mselect\u001b[0m\u001b[0;34m.\u001b[0m\u001b[0mselect\u001b[0m\u001b[0;34m(\u001b[0m\u001b[0;34m[\u001b[0m\u001b[0mself\u001b[0m\u001b[0;34m.\u001b[0m\u001b[0mfd\u001b[0m\u001b[0;34m,\u001b[0m \u001b[0mself\u001b[0m\u001b[0;34m.\u001b[0m\u001b[0mpipe_abort_read_r\u001b[0m\u001b[0;34m]\u001b[0m\u001b[0;34m,\u001b[0m \u001b[0;34m[\u001b[0m\u001b[0;34m]\u001b[0m\u001b[0;34m,\u001b[0m \u001b[0;34m[\u001b[0m\u001b[0;34m]\u001b[0m\u001b[0;34m,\u001b[0m \u001b[0mtimeout\u001b[0m\u001b[0;34m.\u001b[0m\u001b[0mtime_left\u001b[0m\u001b[0;34m(\u001b[0m\u001b[0;34m)\u001b[0m\u001b[0;34m)\u001b[0m\u001b[0;34m\u001b[0m\u001b[0m\n\u001b[0m\u001b[1;32m    473\u001b[0m                 \u001b[0;32mif\u001b[0m \u001b[0mself\u001b[0m\u001b[0;34m.\u001b[0m\u001b[0mpipe_abort_read_r\u001b[0m \u001b[0;32min\u001b[0m \u001b[0mready\u001b[0m\u001b[0;34m:\u001b[0m\u001b[0;34m\u001b[0m\u001b[0m\n\u001b[1;32m    474\u001b[0m                     \u001b[0mos\u001b[0m\u001b[0;34m.\u001b[0m\u001b[0mread\u001b[0m\u001b[0;34m(\u001b[0m\u001b[0mself\u001b[0m\u001b[0;34m.\u001b[0m\u001b[0mpipe_abort_read_r\u001b[0m\u001b[0;34m,\u001b[0m \u001b[0;36m1000\u001b[0m\u001b[0;34m)\u001b[0m\u001b[0;34m\u001b[0m\u001b[0m\n",
      "\u001b[0;31mKeyboardInterrupt\u001b[0m: "
     ]
    }
   ],
   "source": [
    "# This function will be used to calibrate the H2O2 sensor\n",
    "\n",
    "# Procedure:\n",
    "# Begin with 400mL 0.1M PBS\n",
    "# Gradually increase to 40mM by increments of 1mM\n",
    "    # Add 0.4mL at a time\n",
    "    # Calculate the concentration\n",
    "\n",
    "M1 = 1000.0000000000                #concentration of H2O2 being inputed (mM)\n",
    "V1 = 0.00000000000                  #inital volume of H2O2 in solution (mL) \n",
    "V2 = 400.0000000                 #inital volume of electrocemical cell (mL)\n",
    "\n",
    "\n",
    "for i in range(41) :  # this loop will calibrate up to 40mM\n",
    "    print('\\033[1m' + str(i) + 'mM MEASUREMENT HAS BEGUN' + '\\033[0m')\n",
    "    print('\\n')\n",
    "    \n",
    "    pause_PID()\n",
    "    #Run chronoamperometry\n",
    "    sleep(10) #wait 10 s\n",
    "    current_approached = run_chronoamperometry_and_retrieve_current_approached(5) # this will return the current being approached on the chronoamperometric measurement\n",
    "    sleep(10) #wait 10 s\n",
    "    resume_PID()\n",
    "    \n",
    "    #Calculate the concentration (mM)\n",
    "    concentration = M1*V1/V2\n",
    "    \n",
    "    #Add 0.4mL of 1M H2O2 \n",
    "    send_400mL_1M_H2O2() \n",
    "    \n",
    "    V1 = V1 + 0.4 \n",
    "    V2 = V2 + 0.4\n",
    "    \n",
    "    #log temperature and time (stored in temperature and time)\n",
    "    todays_date = date.today()\n",
    "    time = get_time()\n",
    "    temperature = get_temp_from_PID() \n",
    "    \n",
    "    row = [todays_date, time, temperature, concentration, current_approached]\n",
    "    print('time:', time)\n",
    "    print('concentration',concentration)\n",
    "    print('temp:', temperature)\n",
    "    print('current approached:', current_approached)\n",
    "    \n",
    "    \n",
    "    with open('/home/pi/Desktop/chronoLog_c alibration.txt', 'a') as f:\n",
    "        writer_object = writer(f)\n",
    "        writer_object.writerow(row)\n",
    "        f.close()\n",
    "        \n",
    "    #f = open('/home/pi/Desktop/chronoLog.txt', 'w')\n",
    "    #writer = csv.writer(f)\n",
    "    #writer.writerow(row)\n",
    "    #f.close()\n",
    "    \n",
    "    print('asleep \\n')\n",
    "    sleep(300)   #wait 5 minutes\n",
    "    print('awake \\n')\n"
   ]
  },
  {
   "cell_type": "code",
   "execution_count": null,
   "id": "68d05978",
   "metadata": {},
   "outputs": [],
   "source": []
  },
  {
   "cell_type": "code",
   "execution_count": null,
   "id": "64b4cc4d",
   "metadata": {},
   "outputs": [],
   "source": []
  },
  {
   "cell_type": "markdown",
   "id": "d0e0beca",
   "metadata": {},
   "source": [
    "### TESTING AUTOLAB GPIO"
   ]
  },
  {
   "cell_type": "code",
   "execution_count": 145,
   "id": "771a7fe9",
   "metadata": {},
   "outputs": [
    {
     "name": "stdout",
     "output_type": "stream",
     "text": [
      "waiting for autolab signal\n",
      "0\n",
      "autolab has sent a signal\n",
      "sending low signal to autolab\n",
      "chronoamperometry done\n"
     ]
    }
   ],
   "source": [
    "import RPi.GPIO as GPIO\n",
    "import time\n",
    " \n",
    "GPIO.setmode(GPIO.BCM) #allows us to refer to pins by their \"GPIO#\" names vs. the physical board pin #s\n",
    " \n",
    "TxToAutolab = 2 #GPIO2 = header pin 3\n",
    "RxFromAutolab = 3 #GPIO3 = header pin 5\n",
    "\n",
    "input1 = -1\n",
    "print('waiting for autolab signal')\n",
    "GPIO.setup(RxFromAutolab, GPIO.IN) #set Rx pin as IN\n",
    "\n",
    "while(GPIO.input(RxFromAutolab) == 1): #wait for autolab trigger\n",
    "    temp = 0\n",
    "print(GPIO.input(RxFromAutolab))\n",
    "print('autolab has sent a signal')\n",
    "\n",
    "print('sending low signal to autolab')\n",
    "GPIO.setup(TxToAutolab, GPIO.OUT) #set Tx pin as output\n",
    "GPIO.output(TxToAutolab, GPIO.LOW) #send a 0 to the Autolab \n",
    "time.sleep(5) #wait 5s\n",
    "print('chronoamperometry done')\n",
    "\n",
    "#free resources when fully done\n",
    "GPIO.cleanup()"
   ]
  },
  {
   "cell_type": "code",
   "execution_count": null,
   "id": "9878d8bc",
   "metadata": {},
   "outputs": [],
   "source": []
  },
  {
   "cell_type": "code",
   "execution_count": 121,
   "id": "383e81b2",
   "metadata": {},
   "outputs": [
    {
     "name": "stderr",
     "output_type": "stream",
     "text": [
      "/usr/local/lib/python3.5/dist-packages/ipykernel_launcher.py:11: RuntimeWarning: This channel is already in use, continuing anyway.  Use GPIO.setwarnings(False) to disable warnings.\n",
      "  # This is added back by InteractiveShellApp.init_path()\n"
     ]
    },
    {
     "name": "stdout",
     "output_type": "stream",
     "text": [
      "Start squarewave\n",
      "End Squarewave\n"
     ]
    }
   ],
   "source": [
    "import RPi.GPIO as GPIO\n",
    "import time\n",
    " \n",
    "GPIO.setmode(GPIO.BCM) #allows us to refer to pins by their \"GPIO#\" names vs. the physical board pin #s\n",
    " \n",
    "TxToAutolab = 2 #GPIO2 = header pin 3\n",
    "RxFromAutolab = 3 #GPIO3 = header pin 5\n",
    "\n",
    "GPIO.setup(TxToAutolab, GPIO.IN) #set Rx pin as IN\n",
    "while(GPIO.input(RxFromAutolab)) #wait for autolab trigger\n",
    "print('autolab has sent a signal')\n",
    "\n",
    "print('sending low signal to autolab')\n",
    "GPIO.setup(TxToAutolab, GPIO.OUT) #set Tx pin as output\n",
    "GPIO.output(TxToAutolab, GPIO.LOW) #send a 0 to the Autolab \n",
    "time.sleep(5) #wait 5s\n",
    "print('chronoamperometry done')\n",
    "\n",
    " \n",
    "GPIO.setup(TxToAutolab, GPIO.OUT) #set Tx pin as output\n",
    "GPIO.output(TxToAutolab, GPIO.LOW) #send a 0 to the Autolab\n",
    "time.sleep(2) #wait 2s\n",
    " \n",
    " \n",
    "time.sleep(2) #wait 200ms\n",
    "print(\"Start squarewave\")\n",
    "for i in range(10): #loop 10 times. i = [0,9]\n",
    "    GPIO.output(TxToAutolab, GPIO.LOW) #send a 0 to the Autolab\n",
    "    time.sleep(0.2) #wait 200ms\n",
    "    GPIO.output(TxToAutolab, GPIO.HIGH)  #send a 1 to the Autolab\n",
    "    time.sleep(0.2) #wait 200ms\n",
    " \n",
    "print(\"End Squarewave\")\n",
    " \n",
    "#free resources when fully done\n",
    "GPIO.cleanup()\n",
    "#this returns the pin to default state of being an input\n",
    "#we won't be doing this until the whole main python sript is done and comm with the Autolab is no longer needed"
   ]
  },
  {
   "cell_type": "code",
   "execution_count": null,
   "id": "599de44b",
   "metadata": {},
   "outputs": [],
   "source": []
  },
  {
   "cell_type": "markdown",
   "id": "e4ef545a",
   "metadata": {},
   "source": [
    "# Visual of how chronoamperometry data is being analyzed"
   ]
  },
  {
   "cell_type": "code",
   "execution_count": null,
   "id": "d9255dcd",
   "metadata": {},
   "outputs": [],
   "source": [
    "print(\"We get the chronoamperometric measurements\")\n",
    "# Plotting each graph\n",
    "plt.plot(time[0], current[0], label = \"Measurement 0\")\n",
    "plt.plot(time[1], current[1], label = \"Measurement 1\")\n",
    "plt.plot(time[2], current[2], label = \"Measurement 2\")\n",
    "plt.plot(time[3], current[3], label = \"Measurement 3\")\n",
    "plt.plot(time[4], current[4], label = \"Measurement 4\")\n",
    "plt.legend(['Measurement 0', 'Measurement 1', 'Measurement 2', 'Measurement 3', 'Measurement 4'], loc='upper left')\n",
    "# naming the x axis\n",
    "plt.xlabel('Time (s)')\n",
    "# naming the y axis\n",
    "plt.ylabel('Current(A)')\n",
    "# giving a title to my graph\n",
    "plt.title('Chronoamperometry- Individual')\n",
    "# function to show the plot\n",
    "plt.show()\n",
    "    "
   ]
  },
  {
   "cell_type": "code",
   "execution_count": 207,
   "id": "d7d3dc4d",
   "metadata": {},
   "outputs": [
    {
     "name": "stdout",
     "output_type": "stream",
     "text": [
      "We extract the current value being approached\n"
     ]
    },
    {
     "data": {
      "image/png": "[encoded data removed]",
      "text/plain": [
       "<Figure size 432x288 with 1 Axes>"
      ]
     },
     "metadata": {
      "needs_background": "light"
     },
     "output_type": "display_data"
    }
   ],
   "source": [
    "# Plotting Approaching value for each graph - Last 1 seconds\n",
    "time_approaching = np.array(time[0][len(time[0])-100 : len(time[0])])\n",
    "current_approaching_0 = np.array(current[0][len(current[0])-100 : len(current[0])])\n",
    "current_approaching_1 = np.array(current[1][len(current[1])-100 : len(current[1])])\n",
    "current_approaching_2 = np.array(current[2][len(current[2])-100 : len(current[2])])\n",
    "current_approaching_3 = np.array(current[3][len(current[3])-100 : len(current[3])])\n",
    "current_approaching_4 = np.array(current[4][len(current[4])-100 : len(current[4])])\n",
    "\n",
    "print(\"We extract the current value being approached\")\n",
    "#Plotting Approching values - NOT Filtered\n",
    "plt.plot(time_approaching, current_approaching_0, label = \"Measurement 0\", c = 'black')\n",
    "plt.plot(time_approaching, current_approaching_1, label = \"Measurement 1\", c = 'yellow')\n",
    "plt.plot(time_approaching, current_approaching_2, label = \"Measurement 2\", c = 'green')\n",
    "plt.plot(time_approaching, current_approaching_3, label = \"Measurement 3\", c = 'blue')\n",
    "plt.plot(time_approaching, current_approaching_4, label = \"Measurement 4\", c = 'orange') \n",
    "plt.legend(['Measurement 0', 'Measurement 1', 'Measurement 2', 'Measurement 3', 'Measurement 4'], loc='upper left')\n",
    "# naming the x axis\n",
    "plt.xlabel('Time (s)')\n",
    "# naming the y axis\n",
    "plt.ylabel('Current(A)')\n",
    "# giving a title to my graph\n",
    "plt.title('Chronoamperometry- Approaching value')\n",
    "# function to show the plot\n",
    "plt.show()"
   ]
  },
  {
   "cell_type": "code",
   "execution_count": 208,
   "id": "419fb8db",
   "metadata": {},
   "outputs": [
    {
     "name": "stdout",
     "output_type": "stream",
     "text": [
      "We eliminate noise from the measurements\n"
     ]
    },
    {
     "data": {
      "image/png": "[encoded data removed]",
      "text/plain": [
       "<Figure size 432x288 with 1 Axes>"
      ]
     },
     "metadata": {
      "needs_background": "light"
     },
     "output_type": "display_data"
    }
   ],
   "source": [
    "## Filterinig approached values\n",
    "print(\"We eliminate noise from the measurements\")\n",
    "current_approaching_0_filtered = savgol_filter(current_approaching_0, 31,1)\n",
    "current_approaching_1_filtered = savgol_filter(current_approaching_1, 31,1)\n",
    "current_approaching_2_filtered = savgol_filter(current_approaching_2, 31,1)\n",
    "current_approaching_3_filtered = savgol_filter(current_approaching_3, 31,1)\n",
    "current_approaching_4_filtered = savgol_filter(current_approaching_4, 31,1)\n",
    "\n",
    "#Plotting Approching values - FILTERED\n",
    "plt.plot(time_approaching, current_approaching_0_filtered, label = \"Measurement 0\", c = 'black')\n",
    "plt.plot(time_approaching, current_approaching_1_filtered, label = \"Measurement 1\", c = 'yellow')\n",
    "plt.plot(time_approaching, current_approaching_2_filtered, label = \"Measurement 2\", c = 'green')\n",
    "plt.plot(time_approaching, current_approaching_3_filtered, label = \"Measurement 3\", c = 'blue')\n",
    "plt.plot(time_approaching, current_approaching_4_filtered, label = \"Measurement 4\", c = 'orange') \n",
    "plt.legend(['Measurement 0', 'Measurement 1', 'Measurement 2', 'Measurement 3', 'Measurement 4'], loc='upper left')\n",
    "# naming the x axis\n",
    "plt.xlabel('Time (s)')\n",
    "# naming the y axis\n",
    "plt.ylabel('Current(A)')\n",
    "# giving a title to my graph\n",
    "plt.title('Chronoamperometry Filtered- Approaching value')\n",
    "# function to show the plot\n",
    "plt.show()"
   ]
  },
  {
   "cell_type": "code",
   "execution_count": 209,
   "id": "808bd7d5",
   "metadata": {},
   "outputs": [
    {
     "name": "stdout",
     "output_type": "stream",
     "text": [
      "Now we get the 3 most correlated measurements\n"
     ]
    },
    {
     "data": {
      "image/png": "[encoded data removed]",
      "text/plain": [
       "<Figure size 432x288 with 1 Axes>"
      ]
     },
     "metadata": {
      "needs_background": "light"
     },
     "output_type": "display_data"
    }
   ],
   "source": [
    "## removing outliers - get 3 most correlated curves\n",
    "correlation_matrix = np.empty(shape=(10,4))\n",
    "    \n",
    "#comparing 0,1,2\n",
    "correlation_matrix[0][0] = 0 ; correlation_matrix[0][1] = 1 ; correlation_matrix[0][2] = 2 ; correlation_matrix[0][3] = np.linalg.norm(current_approaching_0-current_approaching_1-current_approaching_2) \n",
    "#comparing 0,1,3\n",
    "correlation_matrix[1][0] = 0 ; correlation_matrix[1][1] = 1 ; correlation_matrix[1][2] = 3 ; correlation_matrix[1][3] = np.linalg.norm(current_approaching_0-current_approaching_1-current_approaching_3) \n",
    "#comparing 0,1,4\n",
    "correlation_matrix[2][0] = 0 ; correlation_matrix[2][1] = 1 ; correlation_matrix[2][2] = 4 ; correlation_matrix[2][3] = np.linalg.norm(current_approaching_0-current_approaching_1-current_approaching_4)             \n",
    "#comparing 0,2,3\n",
    "correlation_matrix[3][0] = 0 ; correlation_matrix[3][1] = 2 ; correlation_matrix[3][2] = 3 ; correlation_matrix[3][3] = np.linalg.norm(current_approaching_0-current_approaching_2-current_approaching_3)  \n",
    "#comparing 0,2,4\n",
    "correlation_matrix[4][0] = 0 ; correlation_matrix[4][1] = 2 ; correlation_matrix[4][2] = 4 ; correlation_matrix[4][3] = np.linalg.norm(current_approaching_0-current_approaching_2-current_approaching_4)             \n",
    "#comparing 0,3,4\n",
    "correlation_matrix[5][0] = 0 ; correlation_matrix[5][1] = 3 ; correlation_matrix[5][2] = 4 ; correlation_matrix[5][3] = np.linalg.norm(current_approaching_0-current_approaching_3-current_approaching_4)             \n",
    "#comparing 1,2,3\n",
    "correlation_matrix[6][0] = 1 ; correlation_matrix[6][1] = 2 ; correlation_matrix[6][2] = 3 ; correlation_matrix[6][3] = np.linalg.norm(current_approaching_1-current_approaching_2-current_approaching_3)\n",
    "#comparing 1,2,4\n",
    "correlation_matrix[7][0] = 1 ; correlation_matrix[7][1] = 2 ; correlation_matrix[7][2] = 4 ; correlation_matrix[7][3] = np.linalg.norm(current_approaching_1-current_approaching_2-current_approaching_4)             \n",
    "#comparing 1,3,4\n",
    "correlation_matrix[8][0] = 1 ; correlation_matrix[8][1] = 3 ; correlation_matrix[8][2] = 4 ; correlation_matrix[8][3] = np.linalg.norm(current_approaching_1-current_approaching_3-current_approaching_4)  \n",
    "#comparing 2,3,4\n",
    "correlation_matrix[9][0] = 2 ; correlation_matrix[9][1] = 3 ; correlation_matrix[9][2] = 4 ; correlation_matrix[9][3] = np.linalg.norm(current_approaching_2-current_approaching_3-current_approaching_4)             \n",
    "    \n",
    "# putting filtered measurements in array\n",
    "filtered_measurements_array = np.empty(shape=(5,len(current_approaching_0_filtered)))\n",
    "filtered_measurements_array[0] = current_approaching_0_filtered\n",
    "filtered_measurements_array[1] = current_approaching_1_filtered  \n",
    "filtered_measurements_array[2] = current_approaching_2_filtered\n",
    "filtered_measurements_array[3] = current_approaching_3_filtered \n",
    "filtered_measurements_array[4] = current_approaching_4_filtered\n",
    "\n",
    "## getting index of mesurements that are most correlated\n",
    "bound = 1000\n",
    "measurement_indexes = np.empty(shape=(3))\n",
    "for i in range(10):\n",
    "    if correlation_matrix[i-1][3] < bound :\n",
    "        bound = correlation_matrix[i-1][3] ;\n",
    "        measurement_indexes[0] = correlation_matrix[i-1][0]\n",
    "        measurement_indexes[1] = correlation_matrix[i-1][1]\n",
    "        measurement_indexes[2] = correlation_matrix[i-1][2]\n",
    "    \n",
    "#Plotting the 3 most CORRELATED measurements\n",
    "index_0 = int(measurement_indexes[0])\n",
    "index_1 = int(measurement_indexes[1])\n",
    "index_2 = int(measurement_indexes[2])\n",
    "  \n",
    "print(\"Now we get the 3 most correlated measurements\")\n",
    "if index_0 == 0 or index_1 == 0 or index_2 == 0 : plt.plot(time_approaching, current_approaching_0_filtered, label = \"Measurement 0\", c = 'black')\n",
    "if index_0 == 1 or index_1 == 1 or index_2 == 1 : plt.plot(time_approaching, current_approaching_1_filtered, label = \"Measurement 1\", c = 'yellow')\n",
    "if index_0 == 2 or index_1 == 2 or index_2 == 2 : plt.plot(time_approaching, current_approaching_2_filtered, label = \"Measurement 2\", c = 'green')\n",
    "if index_0 == 3 or index_1 == 3 or index_2 == 3 : plt.plot(time_approaching, current_approaching_3_filtered, label = \"Measurement 3\", c = 'blue')\n",
    "if index_0 == 4 or index_1 == 4 or index_2 == 4 : plt.plot(time_approaching, current_approaching_4_filtered, label = \"Measurement 4\", c = 'orange') \n",
    "# naming the x axis\n",
    "plt.xlabel('Time (s)')\n",
    "# naming the y axis\n",
    "plt.ylabel('Current(A)')\n",
    "# giving a title to my graph\n",
    "plt.title('Approaching value of most correlated measurements')\n",
    "# function to show the plot\n",
    "plt.show()\n",
    "    "
   ]
  },
  {
   "cell_type": "code",
   "execution_count": 210,
   "id": "e80a35fb",
   "metadata": {},
   "outputs": [
    {
     "name": "stdout",
     "output_type": "stream",
     "text": [
      "Now we take the average of the 3 most correlated measurements\n"
     ]
    },
    {
     "data": {
      "image/png": "[encoded data removed]",
      "text/plain": [
       "<Figure size 432x288 with 1 Axes>"
      ]
     },
     "metadata": {
      "needs_background": "light"
     },
     "output_type": "display_data"
    },
    {
     "name": "stdout",
     "output_type": "stream",
     "text": [
      "The current being approached is: 0.19961478333333335\n"
     ]
    }
   ],
   "source": [
    "# plotting average of 3 plots\n",
    "## calculating average time \n",
    "average_current_approaching_filtered = (filtered_measurements_array[index_0]+filtered_measurements_array[index_1]+filtered_measurements_array[index_2])/3\n",
    "#Plotting Average of 3 measurements\n",
    "plt.plot(time_approaching, average_current_approaching_filtered, c = 'red')\n",
    "# naming the x axis\n",
    "plt.xlabel('Time (s)')\n",
    "# naming the y axis\n",
    "plt.ylabel('Current(A)')\n",
    "# giving a title to my graph\n",
    "plt.title('Chronoamperometry Average- Approaching value')\n",
    "print(\"Now we take the average of the 3 most correlated measurements\")\n",
    "# function to show the plot\n",
    "plt.show()\n",
    "    \n",
    "# we conclude that the current being approached is the average value of average_current_approaching_filtered\n",
    "current_being_approached = np.sum(average_current_approaching_filtered)/len(average_current_approaching_filtered)\n",
    "    \n",
    "print(\"The current being approached is:\", current_being_approached)"
   ]
  },
  {
   "cell_type": "markdown",
   "id": "f2a0ad3d",
   "metadata": {},
   "source": [
    "# Main"
   ]
  },
  {
   "cell_type": "code",
   "execution_count": null,
   "id": "41297e11",
   "metadata": {},
   "outputs": [],
   "source": []
  },
  {
   "cell_type": "code",
   "execution_count": null,
   "id": "9541daac",
   "metadata": {},
   "outputs": [],
   "source": []
  },
  {
   "cell_type": "code",
   "execution_count": null,
   "id": "91ea3964",
   "metadata": {},
   "outputs": [],
   "source": []
  },
  {
   "cell_type": "code",
   "execution_count": null,
   "id": "d4c8216b",
   "metadata": {},
   "outputs": [],
   "source": [
    "# Importing \n",
    "\n",
    "import math\n",
    "import csv\n",
    "import matplotlib.pyplot as plt\n",
    "import scipy\n",
    "import numpy as np\n",
    "import pandas as pd\n",
    "import scipy.stats\n",
    "from scipy.signal import savgol_filter, lfilter, firwin\n",
    "from sklearn.linear_model import LinearRegression\n",
    "from scipy.stats.stats import pearsonr \n",
    "import time \n",
    "\n",
    "# Indicate where the chronoamperometry measurements will be saved\n",
    "pathToFile = \"//Users/michael/Downloads/Pure Pt probe CV rev3/40mM/Chrono/\"\n",
    "\n",
    "\n",
    "# Run 5 Chronoamperometry Readings\n",
    "## Insert Code Here for RODEOSTAT COMMAND\n",
    "    \n",
    "while(1):\n",
    "    \n",
    "    #Record Concentration Data\n",
    "    #Record Temperature Data\n",
    "\n",
    "    #Read 5 csv files and get the current that is being approached\n",
    "    temp = get_concentration_from_chronoamperometry(pathToFile)\n",
    "    calculatedConcentration = temp[3]\n",
    "    \n",
    "    #if the concentration is less than 1 mM in range, increase concentration by 1mM\n",
    "    ## pump 2/5 mL of 1M H2O2\n",
    "    \n",
    "    #wait 7 minutes so that mixing can be done \n",
    "    time.sleep(420)\n",
    "    \n",
    "    "
   ]
  },
  {
   "cell_type": "code",
   "execution_count": null,
   "id": "2893c436",
   "metadata": {},
   "outputs": [],
   "source": []
  }
 ],
 "metadata": {
  "kernelspec": {
   "display_name": "Python 3",
   "language": "python",
   "name": "python3"
  },
  "language_info": {
   "codemirror_mode": {
    "name": "ipython",
    "version": 3
   },
   "file_extension": ".py",
   "mimetype": "text/x-python",
   "name": "python",
   "nbconvert_exporter": "python",
   "pygments_lexer": "ipython3",
   "version": "3.8.8"
  }
 },
 "nbformat": 4,
 "nbformat_minor": 5
}
